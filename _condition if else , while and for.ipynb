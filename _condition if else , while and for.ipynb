{
 "cells": [
  {
   "cell_type": "code",
   "execution_count": 1,
   "id": "b836ab39-b0d9-4005-a084-548020be289a",
   "metadata": {},
   "outputs": [],
   "source": [
    "a = 10\n",
    "if a > 10 :\n",
    "    print (\"yes a is greater than 10\")"
   ]
  },
  {
   "cell_type": "code",
   "execution_count": 3,
   "id": "333cb96e-2e56-4986-9e6f-c5fd554fa458",
   "metadata": {},
   "outputs": [
    {
     "data": {
      "text/plain": [
       "False"
      ]
     },
     "execution_count": 3,
     "metadata": {},
     "output_type": "execute_result"
    }
   ],
   "source": [
    "a > 10"
   ]
  },
  {
   "cell_type": "code",
   "execution_count": 21,
   "id": "5a05f198-a366-4691-94b3-a7a30f22504e",
   "metadata": {},
   "outputs": [
    {
     "name": "stdout",
     "output_type": "stream",
     "text": [
      "yes a is greater than 10\n"
     ]
    }
   ],
   "source": [
    "a = 10\n",
    "if a >= 10 :\n",
    "    print (\"yes a is greater than 10\")"
   ]
  },
  {
   "cell_type": "code",
   "execution_count": 22,
   "id": "e4f6e382-84c1-477b-baa0-4cd6b8bc163d",
   "metadata": {
    "tags": []
   },
   "outputs": [
    {
     "data": {
      "text/plain": [
       "True"
      ]
     },
     "execution_count": 22,
     "metadata": {},
     "output_type": "execute_result"
    }
   ],
   "source": [
    "a >= 10"
   ]
  },
  {
   "cell_type": "code",
   "execution_count": 19,
   "id": "fd19bbac-0730-4ff4-a293-83ab925c1913",
   "metadata": {},
   "outputs": [
    {
     "name": "stdout",
     "output_type": "stream",
     "text": [
      "yes b is lesser than 40\n"
     ]
    }
   ],
   "source": [
    "b = 20\n",
    "if b > 30 :\n",
    "    print(\"yes b is greater than 30\")\n",
    "elif b < 40 :\n",
    "    print (\"yes b is lesser than 40\")\n",
    "elif b > 100 :\n",
    "    print(\"yes b is greater than 100\")\n",
    "else :\n",
    "    print(\"this is my deault\")"
   ]
  },
  {
   "cell_type": "code",
   "execution_count": 20,
   "id": "929942ac-843c-42a5-b1c0-321d629c2f30",
   "metadata": {},
   "outputs": [
    {
     "data": {
      "text/plain": [
       "False"
      ]
     },
     "execution_count": 20,
     "metadata": {},
     "output_type": "execute_result"
    }
   ],
   "source": [
    "b > 30"
   ]
  },
  {
   "cell_type": "code",
   "execution_count": 7,
   "id": "ecdc01b0-e8cd-4628-8285-add7d09c2b29",
   "metadata": {},
   "outputs": [
    {
     "data": {
      "text/plain": [
       "True"
      ]
     },
     "execution_count": 7,
     "metadata": {},
     "output_type": "execute_result"
    }
   ],
   "source": [
    "b < 40"
   ]
  },
  {
   "cell_type": "code",
   "execution_count": 9,
   "id": "730e2f59-e112-48ba-8aef-0f0c085c0328",
   "metadata": {},
   "outputs": [
    {
     "data": {
      "text/plain": [
       "False"
      ]
     },
     "execution_count": 9,
     "metadata": {},
     "output_type": "execute_result"
    }
   ],
   "source": [
    "b > 40"
   ]
  },
  {
   "cell_type": "code",
   "execution_count": 14,
   "id": "548b0a86-c3ad-40aa-a27b-e9fb757337d8",
   "metadata": {},
   "outputs": [
    {
     "name": "stdin",
     "output_type": "stream",
     "text": [
      " 45\n"
     ]
    }
   ],
   "source": [
    "b = int(input())\n"
   ]
  },
  {
   "cell_type": "code",
   "execution_count": 30,
   "id": "252ee21a-af1c-4197-9883-ac33abe1cc36",
   "metadata": {},
   "outputs": [
    {
     "name": "stdin",
     "output_type": "stream",
     "text": [
      " 110\n"
     ]
    },
    {
     "name": "stdout",
     "output_type": "stream",
     "text": [
      "yes b is greater than 30\n"
     ]
    }
   ],
   "source": [
    "b = int(input())\n",
    "if b > 30 :\n",
    "    print(\"yes b is greater than 30\")\n",
    "elif b < 40 :\n",
    "    print (\"yes b is lesser than 40\")\n",
    "elif b > 100 :\n",
    "    print(\"yes b is greater than 100\")\n",
    "else :\n",
    "    print(\"this is my deault\")"
   ]
  },
  {
   "cell_type": "code",
   "execution_count": 13,
   "id": "fe22aa18-1dff-46bc-883c-84ec03a27689",
   "metadata": {},
   "outputs": [
    {
     "data": {
      "text/plain": [
       "34"
      ]
     },
     "execution_count": 13,
     "metadata": {},
     "output_type": "execute_result"
    }
   ],
   "source": [
    "int('34')"
   ]
  },
  {
   "cell_type": "code",
   "execution_count": 16,
   "id": "0ef708f0-0235-4fb8-b211-fbe894c38c47",
   "metadata": {},
   "outputs": [
    {
     "data": {
      "text/plain": [
       "45"
      ]
     },
     "execution_count": 16,
     "metadata": {},
     "output_type": "execute_result"
    }
   ],
   "source": [
    "b"
   ]
  },
  {
   "cell_type": "code",
   "execution_count": 18,
   "id": "c07a0774-2f7c-4679-addf-66ddc1549eab",
   "metadata": {},
   "outputs": [
    {
     "data": {
      "text/plain": [
       "int"
      ]
     },
     "execution_count": 18,
     "metadata": {},
     "output_type": "execute_result"
    }
   ],
   "source": [
    "type(b)"
   ]
  },
  {
   "cell_type": "code",
   "execution_count": 31,
   "id": "bb7e942c-af3e-4f0f-978e-0e31b07aab01",
   "metadata": {},
   "outputs": [
    {
     "name": "stdout",
     "output_type": "stream",
     "text": [
      "1\n",
      "2\n",
      "3\n"
     ]
    }
   ],
   "source": [
    "n = 4\n",
    "i = 1\n",
    "while i < n :\n",
    "    print(i)\n",
    "    i = i+1"
   ]
  },
  {
   "cell_type": "code",
   "execution_count": 33,
   "id": "01259ee3-1957-4f1d-9d37-5768b8226319",
   "metadata": {},
   "outputs": [
    {
     "name": "stdout",
     "output_type": "stream",
     "text": [
      "1\n",
      "2\n"
     ]
    }
   ],
   "source": [
    "n = 4\n",
    "i = 1\n",
    "while i < n :\n",
    "    print(i)\n",
    "    i = i+1\n",
    "    if i ==3 :\n",
    "        break\n",
    "else :\n",
    "    print(\"this is my else\")"
   ]
  },
  {
   "cell_type": "code",
   "execution_count": 36,
   "id": "9c6b98d1-045a-4711-88be-e252e1c7fc7d",
   "metadata": {},
   "outputs": [
    {
     "name": "stdout",
     "output_type": "stream",
     "text": [
      "f\n",
      "i\n",
      "z\n",
      "a\n"
     ]
    }
   ],
   "source": [
    "f = \"fiza\"\n",
    "for i in f :\n",
    "    print(i)"
   ]
  },
  {
   "cell_type": "code",
   "execution_count": 37,
   "id": "614d0832-849c-41f2-9ca9-3659dcdb84e3",
   "metadata": {},
   "outputs": [],
   "source": [
    "l = [1,2,3,4,5,\"fiza\", \"pwskills\", 23.215, True]"
   ]
  },
  {
   "cell_type": "code",
   "execution_count": 38,
   "id": "56b87b40-233d-46a3-9402-00d07362d847",
   "metadata": {},
   "outputs": [
    {
     "name": "stdout",
     "output_type": "stream",
     "text": [
      "<class 'int'>\n",
      "<class 'int'>\n",
      "<class 'int'>\n",
      "<class 'int'>\n",
      "<class 'int'>\n",
      "<class 'str'>\n",
      "<class 'str'>\n",
      "<class 'float'>\n",
      "<class 'bool'>\n"
     ]
    }
   ],
   "source": [
    "for i in l :\n",
    "    print (type(i))"
   ]
  },
  {
   "cell_type": "code",
   "execution_count": 45,
   "id": "956b1c31-b4c4-45be-bf80-6f6e633b11ad",
   "metadata": {},
   "outputs": [
    {
     "name": "stdout",
     "output_type": "stream",
     "text": [
      "<class 'int'>\n",
      "<class 'int'>\n",
      "<class 'int'>\n",
      "<class 'int'>\n",
      "<class 'int'>\n",
      "<class 'str'>\n",
      "<class 'str'>\n",
      "<class 'float'>\n",
      "<class 'bool'>\n",
      "this wiil be executed once for loop will itself succefully\n"
     ]
    }
   ],
   "source": [
    "for i in l : \n",
    "    print (type(i))\n",
    "    if i == 6 :\n",
    "        break\n",
    "else :\n",
    "    print(\"this wiil be executed once for loop will itself succefully\")"
   ]
  },
  {
   "cell_type": "code",
   "execution_count": 51,
   "id": "d764a9c2-edab-4ee5-93b6-a08a0c17a225",
   "metadata": {},
   "outputs": [
    {
     "name": "stdout",
     "output_type": "stream",
     "text": [
      "<class 'int'>\n",
      "1\n",
      "<class 'int'>\n",
      "2\n",
      "<class 'int'>\n",
      "3\n",
      "<class 'int'>\n",
      "4\n",
      "<class 'int'>\n",
      "5\n",
      "<class 'str'>\n",
      "fiza\n",
      "<class 'str'>\n",
      "pwskills\n",
      "<class 'float'>\n",
      "23.215\n",
      "<class 'bool'>\n",
      "True\n",
      "this wiil be executed once for loop will itself succefully\n"
     ]
    }
   ],
   "source": [
    "for i in l : \n",
    "    print (type(i))\n",
    "    if i == 6 :\n",
    "        continue\n",
    "    print(i)\n",
    "else :\n",
    "    print(\"this wiil be executed once for loop will itself succefully\")"
   ]
  }
 ],
 "metadata": {
  "kernelspec": {
   "display_name": "Python 3 (ipykernel)",
   "language": "python",
   "name": "python3"
  },
  "language_info": {
   "codemirror_mode": {
    "name": "ipython",
    "version": 3
   },
   "file_extension": ".py",
   "mimetype": "text/x-python",
   "name": "python",
   "nbconvert_exporter": "python",
   "pygments_lexer": "ipython3",
   "version": "3.10.8"
  }
 },
 "nbformat": 4,
 "nbformat_minor": 5
}
